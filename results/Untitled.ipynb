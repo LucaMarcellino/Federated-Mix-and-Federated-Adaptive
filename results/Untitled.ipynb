{
 "cells": [
  {
   "cell_type": "code",
   "execution_count": 9,
   "metadata": {},
   "outputs": [
    {
     "name": "stdout",
     "output_type": "stream",
     "text": [
      "Files already downloaded and verified\n",
      "Files already downloaded and verified\n"
     ]
    },
    {
     "name": "stderr",
     "output_type": "stream",
     "text": [
      "  0%|          | 0/3 [00:00<?, ?it/s]"
     ]
    },
    {
     "name": "stdout",
     "output_type": "stream",
     "text": [
      "Epoch: 1 \tTraining Loss: 1.080258 \tValidation Loss: 0.144626\n",
      "Validation loss decreased (inf --> 0.144626).  Saving model ...\n"
     ]
    },
    {
     "name": "stderr",
     "output_type": "stream",
     "text": [
      " 33%|███▎      | 1/3 [01:11<02:22, 71.19s/it]"
     ]
    },
    {
     "name": "stdout",
     "output_type": "stream",
     "text": [
      "Epoch: 2 \tTraining Loss: 0.556761 \tValidation Loss: 0.116790\n",
      "Validation loss decreased (0.144626 --> 0.116790).  Saving model ...\n"
     ]
    },
    {
     "name": "stderr",
     "output_type": "stream",
     "text": [
      " 67%|██████▋   | 2/3 [02:22<01:11, 71.16s/it]"
     ]
    },
    {
     "name": "stdout",
     "output_type": "stream",
     "text": [
      "Epoch: 3 \tTraining Loss: 0.448251 \tValidation Loss: 0.103508\n",
      "Validation loss decreased (0.116790 --> 0.103508).  Saving model ...\n"
     ]
    },
    {
     "name": "stderr",
     "output_type": "stream",
     "text": [
      "100%|██████████| 3/3 [03:34<00:00, 71.54s/it]\n"
     ]
    },
    {
     "name": "stdout",
     "output_type": "stream",
     "text": [
      "Test Loss: 0.523644\n",
      "\n",
      "Configuration used: lr = 0.01, momentum = 0, weight_decay = 0, norm = None (If none -> Batch)\n",
      "Test Accuracy of Plane: 81% (817/1000)\n",
      "Test Accuracy of   Car: 87% (875/1000)\n",
      "Test Accuracy of  Bird: 81% (811/1000)\n",
      "Test Accuracy of   Cat: 63% (638/1000)\n",
      "Test Accuracy of  Deer: 80% (809/1000)\n",
      "Test Accuracy of   Dog: 70% (706/1000)\n",
      "Test Accuracy of  Frog: 87% (873/1000)\n",
      "Test Accuracy of Horse: 87% (870/1000)\n",
      "Test Accuracy of  Ship: 94% (942/1000)\n",
      "Test Accuracy of Truck: 88% (882/1000)\n",
      "\n",
      "Test Accuracy (Overall): 82% (8223/10000)\n"
     ]
    },
    {
     "name": "stderr",
     "output_type": "stream",
     "text": [
      "  0%|          | 0/3 [00:00<?, ?it/s]"
     ]
    },
    {
     "name": "stdout",
     "output_type": "stream",
     "text": [
      "Epoch: 1 \tTraining Loss: 0.935833 \tValidation Loss: 0.128454\n",
      "Validation loss decreased (inf --> 0.128454).  Saving model ...\n"
     ]
    },
    {
     "name": "stderr",
     "output_type": "stream",
     "text": [
      " 67%|██████▋   | 2/3 [02:33<01:16, 77.00s/it]"
     ]
    },
    {
     "name": "stdout",
     "output_type": "stream",
     "text": [
      "Epoch: 2 \tTraining Loss: 0.541876 \tValidation Loss: 0.121344\n",
      "Validation loss decreased (0.128454 --> 0.121344).  Saving model ...\n"
     ]
    },
    {
     "name": "stderr",
     "output_type": "stream",
     "text": [
      "100%|██████████| 3/3 [03:48<00:00, 76.14s/it]"
     ]
    },
    {
     "name": "stdout",
     "output_type": "stream",
     "text": [
      "Epoch: 3 \tTraining Loss: 0.468191 \tValidation Loss: 0.114690\n",
      "Validation loss decreased (0.121344 --> 0.114690).  Saving model ...\n"
     ]
    },
    {
     "name": "stderr",
     "output_type": "stream",
     "text": [
      "100%|██████████| 3/3 [03:48<00:00, 76.27s/it]\n"
     ]
    },
    {
     "name": "stdout",
     "output_type": "stream",
     "text": [
      "Test Loss: 0.576130\n",
      "\n",
      "Configuration used: lr = 0.01, momentum = 0, weight_decay = 0.01, norm = None (If none -> Batch)\n",
      "Test Accuracy of Plane: 77% (779/1000)\n",
      "Test Accuracy of   Car: 85% (850/1000)\n",
      "Test Accuracy of  Bird: 68% (687/1000)\n",
      "Test Accuracy of   Cat: 73% (734/1000)\n",
      "Test Accuracy of  Deer: 79% (799/1000)\n",
      "Test Accuracy of   Dog: 64% (646/1000)\n",
      "Test Accuracy of  Frog: 92% (920/1000)\n",
      "Test Accuracy of Horse: 83% (834/1000)\n",
      "Test Accuracy of  Ship: 91% (912/1000)\n",
      "Test Accuracy of Truck: 91% (914/1000)\n",
      "\n",
      "Test Accuracy (Overall): 80% (8075/10000)\n"
     ]
    },
    {
     "name": "stderr",
     "output_type": "stream",
     "text": [
      " 33%|███▎      | 1/3 [01:14<02:29, 74.51s/it]"
     ]
    },
    {
     "name": "stdout",
     "output_type": "stream",
     "text": [
      "Epoch: 1 \tTraining Loss: 1.143267 \tValidation Loss: 0.356403\n",
      "Validation loss decreased (inf --> 0.356403).  Saving model ...\n"
     ]
    },
    {
     "name": "stderr",
     "output_type": "stream",
     "text": [
      " 67%|██████▋   | 2/3 [02:31<01:16, 76.16s/it]"
     ]
    },
    {
     "name": "stdout",
     "output_type": "stream",
     "text": [
      "Epoch: 2 \tTraining Loss: 1.286838 \tValidation Loss: 0.372229\n",
      "Epoch: 3 \tTraining Loss: 1.317136 \tValidation Loss: 0.327952\n",
      "Validation loss decreased (0.356403 --> 0.327952).  Saving model ...\n"
     ]
    },
    {
     "name": "stderr",
     "output_type": "stream",
     "text": [
      "100%|██████████| 3/3 [03:45<00:00, 75.18s/it]\n"
     ]
    },
    {
     "name": "stdout",
     "output_type": "stream",
     "text": [
      "Test Loss: 1.627703\n",
      "\n",
      "Configuration used: lr = 0.01, momentum = 0, weight_decay = 0.1, norm = None (If none -> Batch)\n",
      "Test Accuracy of Plane: 41% (413/1000)\n",
      "Test Accuracy of   Car: 83% (830/1000)\n",
      "Test Accuracy of  Bird: 37% (371/1000)\n",
      "Test Accuracy of   Cat: 15% (158/1000)\n",
      "Test Accuracy of  Deer: 34% (340/1000)\n",
      "Test Accuracy of   Dog: 70% (707/1000)\n",
      "Test Accuracy of  Frog: 43% (436/1000)\n",
      "Test Accuracy of Horse: 49% (490/1000)\n",
      "Test Accuracy of  Ship: 60% (602/1000)\n",
      "Test Accuracy of Truck: 61% (615/1000)\n",
      "\n",
      "Test Accuracy (Overall): 49% (4962/10000)\n"
     ]
    },
    {
     "name": "stderr",
     "output_type": "stream",
     "text": [
      " 33%|███▎      | 1/3 [01:19<02:38, 79.12s/it]"
     ]
    },
    {
     "name": "stdout",
     "output_type": "stream",
     "text": [
      "Epoch: 1 \tTraining Loss: 1.242874 \tValidation Loss: 0.204526\n",
      "Validation loss decreased (inf --> 0.204526).  Saving model ...\n"
     ]
    },
    {
     "name": "stderr",
     "output_type": "stream",
     "text": [
      " 67%|██████▋   | 2/3 [02:41<01:21, 81.20s/it]"
     ]
    },
    {
     "name": "stdout",
     "output_type": "stream",
     "text": [
      "Epoch: 2 \tTraining Loss: 0.748407 \tValidation Loss: 0.150039\n",
      "Validation loss decreased (0.204526 --> 0.150039).  Saving model ...\n"
     ]
    },
    {
     "name": "stderr",
     "output_type": "stream",
     "text": [
      "100%|██████████| 3/3 [04:03<00:00, 81.07s/it]"
     ]
    },
    {
     "name": "stdout",
     "output_type": "stream",
     "text": [
      "Epoch: 3 \tTraining Loss: 0.606580 \tValidation Loss: 0.142326\n",
      "Validation loss decreased (0.150039 --> 0.142326).  Saving model ...\n"
     ]
    },
    {
     "name": "stderr",
     "output_type": "stream",
     "text": [
      "\n"
     ]
    },
    {
     "name": "stdout",
     "output_type": "stream",
     "text": [
      "Test Loss: 0.711983\n",
      "\n",
      "Configuration used: lr = 0.01, momentum = 0.5, weight_decay = 0, norm = None (If none -> Batch)\n",
      "Test Accuracy of Plane: 81% (814/1000)\n",
      "Test Accuracy of   Car: 81% (812/1000)\n",
      "Test Accuracy of  Bird: 70% (707/1000)\n",
      "Test Accuracy of   Cat: 64% (646/1000)\n",
      "Test Accuracy of  Deer: 69% (696/1000)\n",
      "Test Accuracy of   Dog: 65% (651/1000)\n",
      "Test Accuracy of  Frog: 86% (862/1000)\n",
      "Test Accuracy of Horse: 78% (789/1000)\n",
      "Test Accuracy of  Ship: 81% (817/1000)\n",
      "Test Accuracy of Truck: 87% (875/1000)\n",
      "\n",
      "Test Accuracy (Overall): 76% (7669/10000)\n"
     ]
    },
    {
     "name": "stderr",
     "output_type": "stream",
     "text": [
      " 33%|███▎      | 1/3 [01:25<02:50, 85.25s/it]"
     ]
    },
    {
     "name": "stdout",
     "output_type": "stream",
     "text": [
      "Epoch: 1 \tTraining Loss: 1.186628 \tValidation Loss: 0.231421\n",
      "Validation loss decreased (inf --> 0.231421).  Saving model ...\n"
     ]
    },
    {
     "name": "stderr",
     "output_type": "stream",
     "text": [
      "100%|██████████| 3/3 [04:18<00:00, 86.19s/it]"
     ]
    },
    {
     "name": "stdout",
     "output_type": "stream",
     "text": [
      "Epoch: 3 \tTraining Loss: 0.987305 \tValidation Loss: 0.253817\n"
     ]
    },
    {
     "name": "stderr",
     "output_type": "stream",
     "text": [
      "\n"
     ]
    },
    {
     "name": "stdout",
     "output_type": "stream",
     "text": [
      "Test Loss: 1.267076\n",
      "\n",
      "Configuration used: lr = 0.01, momentum = 0.5, weight_decay = 0.01, norm = None (If none -> Batch)\n",
      "Test Accuracy of Plane: 63% (630/1000)\n",
      "Test Accuracy of   Car: 53% (531/1000)\n",
      "Test Accuracy of  Bird: 59% (594/1000)\n",
      "Test Accuracy of   Cat: 33% (336/1000)\n",
      "Test Accuracy of  Deer: 47% (473/1000)\n",
      "Test Accuracy of   Dog: 52% (528/1000)\n",
      "Test Accuracy of  Frog: 56% (562/1000)\n",
      "Test Accuracy of Horse: 72% (722/1000)\n",
      "Test Accuracy of  Ship: 82% (821/1000)\n",
      "Test Accuracy of Truck: 48% (483/1000)\n",
      "\n",
      "Test Accuracy (Overall): 56% (5680/10000)\n"
     ]
    },
    {
     "name": "stderr",
     "output_type": "stream",
     "text": [
      "  0%|          | 0/3 [00:00<?, ?it/s]"
     ]
    },
    {
     "name": "stdout",
     "output_type": "stream",
     "text": [
      "Epoch: 1 \tTraining Loss: 1.438618 \tValidation Loss: 0.402687\n",
      "Validation loss decreased (inf --> 0.402687).  Saving model ...\n"
     ]
    },
    {
     "name": "stderr",
     "output_type": "stream",
     "text": [
      " 33%|███▎      | 1/3 [01:26<02:53, 86.55s/it]"
     ]
    },
    {
     "name": "stdout",
     "output_type": "stream",
     "text": [
      "Epoch: 2 \tTraining Loss: 1.516398 \tValidation Loss: 0.379739\n",
      "Validation loss decreased (0.402687 --> 0.379739).  Saving model ...\n"
     ]
    },
    {
     "name": "stderr",
     "output_type": "stream",
     "text": [
      "100%|██████████| 3/3 [04:20<00:00, 86.68s/it]"
     ]
    },
    {
     "name": "stdout",
     "output_type": "stream",
     "text": [
      "Epoch: 3 \tTraining Loss: 1.545697 \tValidation Loss: 0.385889\n"
     ]
    },
    {
     "name": "stderr",
     "output_type": "stream",
     "text": [
      "\n"
     ]
    },
    {
     "name": "stdout",
     "output_type": "stream",
     "text": [
      "Test Loss: 1.920434\n",
      "\n",
      "Configuration used: lr = 0.01, momentum = 0.5, weight_decay = 0.1, norm = None (If none -> Batch)\n",
      "Test Accuracy of Plane: 39% (390/1000)\n",
      "Test Accuracy of   Car: 90% (908/1000)\n",
      "Test Accuracy of  Bird:  4% (41/1000)\n",
      "Test Accuracy of   Cat:  1% (12/1000)\n",
      "Test Accuracy of  Deer: 72% (725/1000)\n",
      "Test Accuracy of   Dog: 44% (442/1000)\n",
      "Test Accuracy of  Frog: 42% (425/1000)\n",
      "Test Accuracy of Horse: 31% (313/1000)\n",
      "Test Accuracy of  Ship: 14% (147/1000)\n",
      "Test Accuracy of Truck:  0% ( 0/1000)\n",
      "\n",
      "Test Accuracy (Overall): 34% (3403/10000)\n"
     ]
    },
    {
     "name": "stderr",
     "output_type": "stream",
     "text": [
      " 33%|███▎      | 1/3 [01:22<02:44, 82.03s/it]"
     ]
    },
    {
     "name": "stdout",
     "output_type": "stream",
     "text": [
      "Epoch: 1 \tTraining Loss: 1.973326 \tValidation Loss: 0.799873\n",
      "Validation loss decreased (inf --> 0.799873).  Saving model ...\n"
     ]
    },
    {
     "name": "stderr",
     "output_type": "stream",
     "text": [
      " 67%|██████▋   | 2/3 [02:42<01:21, 81.30s/it]"
     ]
    },
    {
     "name": "stdout",
     "output_type": "stream",
     "text": [
      "Epoch: 2 \tTraining Loss: 1.421416 \tValidation Loss: 0.444309\n",
      "Validation loss decreased (0.799873 --> 0.444309).  Saving model ...\n",
      "Epoch: 3 \tTraining Loss: 1.275686 \tValidation Loss: 0.281552\n",
      "Validation loss decreased (0.444309 --> 0.281552).  Saving model ...\n"
     ]
    },
    {
     "name": "stderr",
     "output_type": "stream",
     "text": [
      "100%|██████████| 3/3 [04:03<00:00, 81.06s/it]\n"
     ]
    },
    {
     "name": "stdout",
     "output_type": "stream",
     "text": [
      "Test Loss: 1.397384\n",
      "\n",
      "Configuration used: lr = 0.01, momentum = 0.9, weight_decay = 0, norm = None (If none -> Batch)\n",
      "Test Accuracy of Plane: 63% (637/1000)\n",
      "Test Accuracy of   Car: 53% (534/1000)\n",
      "Test Accuracy of  Bird: 28% (281/1000)\n",
      "Test Accuracy of   Cat: 53% (536/1000)\n",
      "Test Accuracy of  Deer: 34% (348/1000)\n",
      "Test Accuracy of   Dog: 23% (239/1000)\n",
      "Test Accuracy of  Frog: 59% (593/1000)\n",
      "Test Accuracy of Horse: 60% (601/1000)\n",
      "Test Accuracy of  Ship: 56% (564/1000)\n",
      "Test Accuracy of Truck: 61% (615/1000)\n",
      "\n",
      "Test Accuracy (Overall): 49% (4948/10000)\n"
     ]
    },
    {
     "name": "stderr",
     "output_type": "stream",
     "text": [
      " 33%|███▎      | 1/3 [01:26<02:52, 86.31s/it]"
     ]
    },
    {
     "name": "stdout",
     "output_type": "stream",
     "text": [
      "Epoch: 1 \tTraining Loss: 1.692518 \tValidation Loss: 0.364498\n",
      "Validation loss decreased (inf --> 0.364498).  Saving model ...\n"
     ]
    },
    {
     "name": "stderr",
     "output_type": "stream",
     "text": [
      " 67%|██████▋   | 2/3 [02:53<01:26, 86.83s/it]"
     ]
    },
    {
     "name": "stdout",
     "output_type": "stream",
     "text": [
      "Epoch: 2 \tTraining Loss: 1.349008 \tValidation Loss: 0.335097\n",
      "Validation loss decreased (0.364498 --> 0.335097).  Saving model ...\n"
     ]
    },
    {
     "name": "stderr",
     "output_type": "stream",
     "text": [
      "100%|██████████| 3/3 [04:22<00:00, 87.55s/it]"
     ]
    },
    {
     "name": "stdout",
     "output_type": "stream",
     "text": [
      "Epoch: 3 \tTraining Loss: 1.309751 \tValidation Loss: 0.347874\n"
     ]
    },
    {
     "name": "stderr",
     "output_type": "stream",
     "text": [
      "\n"
     ]
    },
    {
     "name": "stdout",
     "output_type": "stream",
     "text": [
      "Test Loss: 1.752625\n",
      "\n",
      "Configuration used: lr = 0.01, momentum = 0.9, weight_decay = 0.01, norm = None (If none -> Batch)\n",
      "Test Accuracy of Plane: 61% (615/1000)\n",
      "Test Accuracy of   Car: 30% (303/1000)\n",
      "Test Accuracy of  Bird: 38% (381/1000)\n",
      "Test Accuracy of   Cat: 12% (126/1000)\n",
      "Test Accuracy of  Deer: 22% (225/1000)\n",
      "Test Accuracy of   Dog: 33% (338/1000)\n",
      "Test Accuracy of  Frog: 59% (598/1000)\n",
      "Test Accuracy of Horse: 45% (459/1000)\n",
      "Test Accuracy of  Ship: 40% (406/1000)\n",
      "Test Accuracy of Truck: 35% (355/1000)\n",
      "\n",
      "Test Accuracy (Overall): 38% (3806/10000)\n"
     ]
    },
    {
     "name": "stderr",
     "output_type": "stream",
     "text": [
      "  0%|          | 0/3 [00:00<?, ?it/s]"
     ]
    },
    {
     "name": "stdout",
     "output_type": "stream",
     "text": [
      "Epoch: 1 \tTraining Loss: 1.910312 \tValidation Loss: 0.474640\n",
      "Validation loss decreased (inf --> 0.474640).  Saving model ...\n"
     ]
    },
    {
     "name": "stderr",
     "output_type": "stream",
     "text": [
      " 67%|██████▋   | 2/3 [02:55<01:27, 87.71s/it]"
     ]
    },
    {
     "name": "stdout",
     "output_type": "stream",
     "text": [
      "Epoch: 2 \tTraining Loss: 1.891208 \tValidation Loss: 0.478518\n"
     ]
    },
    {
     "name": "stderr",
     "output_type": "stream",
     "text": [
      "100%|██████████| 3/3 [04:23<00:00, 87.84s/it]"
     ]
    },
    {
     "name": "stdout",
     "output_type": "stream",
     "text": [
      "Epoch: 3 \tTraining Loss: 1.931894 \tValidation Loss: 0.472405\n",
      "Validation loss decreased (0.474640 --> 0.472405).  Saving model ...\n"
     ]
    },
    {
     "name": "stderr",
     "output_type": "stream",
     "text": [
      "100%|██████████| 3/3 [04:23<00:00, 87.75s/it]\n"
     ]
    },
    {
     "name": "stdout",
     "output_type": "stream",
     "text": [
      "Test Loss: 2.360364\n",
      "\n",
      "Configuration used: lr = 0.01, momentum = 0.9, weight_decay = 0.1, norm = None (If none -> Batch)\n",
      "Test Accuracy of Plane: 77% (770/1000)\n",
      "Test Accuracy of   Car:  0% ( 0/1000)\n",
      "Test Accuracy of  Bird:  0% ( 0/1000)\n",
      "Test Accuracy of   Cat:  0% ( 0/1000)\n",
      "Test Accuracy of  Deer:  6% (64/1000)\n",
      "Test Accuracy of   Dog:  0% ( 0/1000)\n",
      "Test Accuracy of  Frog: 85% (857/1000)\n",
      "Test Accuracy of Horse:  0% ( 5/1000)\n",
      "Test Accuracy of  Ship:  0% ( 0/1000)\n",
      "Test Accuracy of Truck:  0% ( 0/1000)\n",
      "\n",
      "Test Accuracy (Overall): 16% (1696/10000)\n"
     ]
    },
    {
     "name": "stderr",
     "output_type": "stream",
     "text": [
      "  0%|          | 0/3 [00:00<?, ?it/s]"
     ]
    },
    {
     "name": "stdout",
     "output_type": "stream",
     "text": [
      "Epoch: 1 \tTraining Loss: 1.755685 \tValidation Loss: 0.317265\n",
      "Validation loss decreased (inf --> 0.317265).  Saving model ...\n"
     ]
    },
    {
     "name": "stderr",
     "output_type": "stream",
     "text": [
      " 33%|███▎      | 1/3 [01:33<03:07, 93.68s/it]"
     ]
    },
    {
     "name": "stdout",
     "output_type": "stream",
     "text": [
      "Epoch: 1 \tTraining Loss: 1.754565 \tValidation Loss: 0.326080\n",
      "Validation loss decreased (inf --> 0.326080).  Saving model ...\n"
     ]
    },
    {
     "name": "stderr",
     "output_type": "stream",
     "text": [
      " 67%|██████▋   | 2/3 [03:04<01:32, 92.14s/it]"
     ]
    },
    {
     "name": "stdout",
     "output_type": "stream",
     "text": [
      "Epoch: 2 \tTraining Loss: 1.235484 \tValidation Loss: 0.278776\n",
      "Validation loss decreased (0.326080 --> 0.278776).  Saving model ...\n"
     ]
    },
    {
     "name": "stderr",
     "output_type": "stream",
     "text": [
      "100%|██████████| 3/3 [04:37<00:00, 92.58s/it]"
     ]
    },
    {
     "name": "stdout",
     "output_type": "stream",
     "text": [
      "Epoch: 3 \tTraining Loss: 1.096493 \tValidation Loss: 0.248988\n",
      "Validation loss decreased (0.278776 --> 0.248988).  Saving model ...\n"
     ]
    },
    {
     "name": "stderr",
     "output_type": "stream",
     "text": [
      "100%|██████████| 3/3 [04:37<00:00, 92.61s/it]\n"
     ]
    },
    {
     "name": "stdout",
     "output_type": "stream",
     "text": [
      "Test Loss: 1.235275\n",
      "\n",
      "Configuration used: lr = 0.01, momentum = 0, weight_decay = 0.01, norm = <class '__main__.GroupNorm32'> (If none -> Batch)\n",
      "Test Accuracy of Plane: 61% (616/1000)\n",
      "Test Accuracy of   Car: 68% (685/1000)\n",
      "Test Accuracy of  Bird: 34% (343/1000)\n",
      "Test Accuracy of   Cat: 33% (337/1000)\n",
      "Test Accuracy of  Deer: 43% (438/1000)\n",
      "Test Accuracy of   Dog: 63% (636/1000)\n",
      "Test Accuracy of  Frog: 65% (653/1000)\n",
      "Test Accuracy of Horse: 54% (540/1000)\n",
      "Test Accuracy of  Ship: 70% (701/1000)\n",
      "Test Accuracy of Truck: 73% (738/1000)\n",
      "\n",
      "Test Accuracy (Overall): 56% (5687/10000)\n"
     ]
    },
    {
     "name": "stderr",
     "output_type": "stream",
     "text": [
      " 33%|███▎      | 1/3 [01:26<02:53, 86.91s/it]"
     ]
    },
    {
     "name": "stdout",
     "output_type": "stream",
     "text": [
      "Epoch: 1 \tTraining Loss: 1.760505 \tValidation Loss: 0.367700\n",
      "Validation loss decreased (inf --> 0.367700).  Saving model ...\n"
     ]
    },
    {
     "name": "stderr",
     "output_type": "stream",
     "text": [
      " 67%|██████▋   | 2/3 [02:59<01:30, 90.18s/it]"
     ]
    },
    {
     "name": "stdout",
     "output_type": "stream",
     "text": [
      "Epoch: 2 \tTraining Loss: 1.498714 \tValidation Loss: 0.385837\n"
     ]
    },
    {
     "name": "stderr",
     "output_type": "stream",
     "text": [
      "100%|██████████| 3/3 [04:30<00:00, 90.18s/it]"
     ]
    },
    {
     "name": "stdout",
     "output_type": "stream",
     "text": [
      "Epoch: 3 \tTraining Loss: 1.484735 \tValidation Loss: 0.357482\n",
      "Validation loss decreased (0.367700 --> 0.357482).  Saving model ...\n"
     ]
    },
    {
     "name": "stderr",
     "output_type": "stream",
     "text": [
      "\n"
     ]
    },
    {
     "name": "stdout",
     "output_type": "stream",
     "text": [
      "Test Loss: 1.762852\n",
      "\n",
      "Configuration used: lr = 0.01, momentum = 0, weight_decay = 0.1, norm = <class '__main__.GroupNorm32'> (If none -> Batch)\n",
      "Test Accuracy of Plane: 68% (682/1000)\n",
      "Test Accuracy of   Car: 14% (140/1000)\n",
      "Test Accuracy of  Bird:  2% (23/1000)\n",
      "Test Accuracy of   Cat:  7% (74/1000)\n",
      "Test Accuracy of  Deer: 68% (683/1000)\n",
      "Test Accuracy of   Dog: 37% (377/1000)\n",
      "Test Accuracy of  Frog: 41% (411/1000)\n",
      "Test Accuracy of Horse: 25% (255/1000)\n",
      "Test Accuracy of  Ship: 16% (169/1000)\n",
      "Test Accuracy of Truck: 66% (664/1000)\n",
      "\n",
      "Test Accuracy (Overall): 34% (3478/10000)\n"
     ]
    },
    {
     "name": "stderr",
     "output_type": "stream",
     "text": [
      " 33%|███▎      | 1/3 [01:34<03:08, 94.28s/it]"
     ]
    },
    {
     "name": "stdout",
     "output_type": "stream",
     "text": [
      "Epoch: 1 \tTraining Loss: 1.833792 \tValidation Loss: 0.336437\n",
      "Validation loss decreased (inf --> 0.336437).  Saving model ...\n"
     ]
    },
    {
     "name": "stderr",
     "output_type": "stream",
     "text": [
      " 67%|██████▋   | 2/3 [03:04<01:31, 91.90s/it]"
     ]
    },
    {
     "name": "stdout",
     "output_type": "stream",
     "text": [
      "Epoch: 2 \tTraining Loss: 1.222288 \tValidation Loss: 0.295834\n",
      "Validation loss decreased (0.336437 --> 0.295834).  Saving model ...\n"
     ]
    },
    {
     "name": "stderr",
     "output_type": "stream",
     "text": [
      "100%|██████████| 3/3 [04:36<00:00, 92.10s/it]"
     ]
    },
    {
     "name": "stdout",
     "output_type": "stream",
     "text": [
      "Epoch: 3 \tTraining Loss: 1.052157 \tValidation Loss: 0.254766\n",
      "Validation loss decreased (0.295834 --> 0.254766).  Saving model ...\n"
     ]
    },
    {
     "name": "stderr",
     "output_type": "stream",
     "text": [
      "\n"
     ]
    },
    {
     "name": "stdout",
     "output_type": "stream",
     "text": [
      "Test Loss: 1.261413\n",
      "\n",
      "Configuration used: lr = 0.01, momentum = 0.5, weight_decay = 0, norm = <class '__main__.GroupNorm32'> (If none -> Batch)\n",
      "Test Accuracy of Plane: 83% (837/1000)\n",
      "Test Accuracy of   Car: 65% (659/1000)\n",
      "Test Accuracy of  Bird: 38% (380/1000)\n",
      "Test Accuracy of   Cat:  6% (65/1000)\n",
      "Test Accuracy of  Deer: 54% (542/1000)\n",
      "Test Accuracy of   Dog: 70% (706/1000)\n",
      "Test Accuracy of  Frog: 51% (513/1000)\n",
      "Test Accuracy of Horse: 67% (673/1000)\n",
      "Test Accuracy of  Ship: 59% (592/1000)\n",
      "Test Accuracy of Truck: 50% (501/1000)\n",
      "\n",
      "Test Accuracy (Overall): 54% (5468/10000)\n"
     ]
    },
    {
     "name": "stderr",
     "output_type": "stream",
     "text": [
      " 33%|███▎      | 1/3 [01:38<03:16, 98.39s/it]"
     ]
    },
    {
     "name": "stdout",
     "output_type": "stream",
     "text": [
      "Epoch: 1 \tTraining Loss: 1.786369 \tValidation Loss: 0.351056\n",
      "Validation loss decreased (inf --> 0.351056).  Saving model ...\n"
     ]
    },
    {
     "name": "stderr",
     "output_type": "stream",
     "text": [
      " 67%|██████▋   | 2/3 [03:21<01:40, 100.94s/it]"
     ]
    },
    {
     "name": "stdout",
     "output_type": "stream",
     "text": [
      "Epoch: 2 \tTraining Loss: 1.247497 \tValidation Loss: 0.285465\n",
      "Validation loss decreased (0.351056 --> 0.285465).  Saving model ...\n"
     ]
    },
    {
     "name": "stderr",
     "output_type": "stream",
     "text": [
      "100%|██████████| 3/3 [05:00<00:00, 100.15s/it]"
     ]
    },
    {
     "name": "stdout",
     "output_type": "stream",
     "text": [
      "Epoch: 3 \tTraining Loss: 1.125401 \tValidation Loss: 0.273564\n",
      "Validation loss decreased (0.285465 --> 0.273564).  Saving model ...\n"
     ]
    },
    {
     "name": "stderr",
     "output_type": "stream",
     "text": [
      "\n"
     ]
    },
    {
     "name": "stdout",
     "output_type": "stream",
     "text": [
      "Test Loss: 1.346962\n",
      "\n",
      "Configuration used: lr = 0.01, momentum = 0.5, weight_decay = 0.01, norm = <class '__main__.GroupNorm32'> (If none -> Batch)\n",
      "Test Accuracy of Plane: 48% (487/1000)\n",
      "Test Accuracy of   Car: 71% (718/1000)\n",
      "Test Accuracy of  Bird: 19% (192/1000)\n",
      "Test Accuracy of   Cat: 13% (134/1000)\n",
      "Test Accuracy of  Deer: 39% (398/1000)\n",
      "Test Accuracy of   Dog: 60% (602/1000)\n",
      "Test Accuracy of  Frog: 86% (863/1000)\n",
      "Test Accuracy of Horse: 59% (599/1000)\n",
      "Test Accuracy of  Ship: 58% (585/1000)\n",
      "Test Accuracy of Truck: 63% (632/1000)\n",
      "\n",
      "Test Accuracy (Overall): 52% (5210/10000)\n"
     ]
    },
    {
     "name": "stderr",
     "output_type": "stream",
     "text": [
      " 33%|███▎      | 1/3 [01:38<03:17, 98.69s/it]"
     ]
    },
    {
     "name": "stdout",
     "output_type": "stream",
     "text": [
      "Epoch: 1 \tTraining Loss: 1.857092 \tValidation Loss: 0.422157\n",
      "Validation loss decreased (inf --> 0.422157).  Saving model ...\n"
     ]
    },
    {
     "name": "stderr",
     "output_type": "stream",
     "text": [
      " 67%|██████▋   | 2/3 [03:20<01:40, 100.73s/it]"
     ]
    },
    {
     "name": "stdout",
     "output_type": "stream",
     "text": [
      "Epoch: 2 \tTraining Loss: 1.708982 \tValidation Loss: 0.444941\n"
     ]
    },
    {
     "name": "stderr",
     "output_type": "stream",
     "text": [
      "100%|██████████| 3/3 [05:04<00:00, 101.49s/it]"
     ]
    },
    {
     "name": "stdout",
     "output_type": "stream",
     "text": [
      "Epoch: 3 \tTraining Loss: 1.754479 \tValidation Loss: 0.446962\n"
     ]
    },
    {
     "name": "stderr",
     "output_type": "stream",
     "text": [
      "\n"
     ]
    },
    {
     "name": "stdout",
     "output_type": "stream",
     "text": [
      "Test Loss: 2.234285\n",
      "\n",
      "Configuration used: lr = 0.01, momentum = 0.5, weight_decay = 0.1, norm = <class '__main__.GroupNorm32'> (If none -> Batch)\n",
      "Test Accuracy of Plane: 53% (535/1000)\n",
      "Test Accuracy of   Car:  0% ( 0/1000)\n",
      "Test Accuracy of  Bird:  0% ( 0/1000)\n",
      "Test Accuracy of   Cat:  0% ( 0/1000)\n",
      "Test Accuracy of  Deer: 74% (748/1000)\n",
      "Test Accuracy of   Dog: 32% (320/1000)\n",
      "Test Accuracy of  Frog:  0% ( 0/1000)\n",
      "Test Accuracy of Horse:  0% ( 0/1000)\n",
      "Test Accuracy of  Ship:  0% ( 0/1000)\n",
      "Test Accuracy of Truck: 43% (430/1000)\n",
      "\n",
      "Test Accuracy (Overall): 20% (2033/10000)\n"
     ]
    },
    {
     "name": "stderr",
     "output_type": "stream",
     "text": [
      " 33%|███▎      | 1/3 [01:35<03:11, 95.88s/it]"
     ]
    },
    {
     "name": "stdout",
     "output_type": "stream",
     "text": [
      "Epoch: 1 \tTraining Loss: 2.628611 \tValidation Loss: 0.475956\n",
      "Validation loss decreased (inf --> 0.475956).  Saving model ...\n",
      "Epoch: 2 \tTraining Loss: 1.885424 \tValidation Loss: 0.464528\n",
      "Validation loss decreased (0.475956 --> 0.464528).  Saving model ...\n"
     ]
    },
    {
     "name": "stderr",
     "output_type": "stream",
     "text": [
      "100%|██████████| 3/3 [04:45<00:00, 95.01s/it]"
     ]
    },
    {
     "name": "stdout",
     "output_type": "stream",
     "text": [
      "Epoch: 3 \tTraining Loss: 1.866474 \tValidation Loss: 0.463869\n",
      "Validation loss decreased (0.464528 --> 0.463869).  Saving model ...\n"
     ]
    },
    {
     "name": "stderr",
     "output_type": "stream",
     "text": [
      "\n"
     ]
    },
    {
     "name": "stdout",
     "output_type": "stream",
     "text": [
      "Test Loss: 2.317750\n",
      "\n",
      "Configuration used: lr = 0.01, momentum = 0.9, weight_decay = 0, norm = <class '__main__.GroupNorm32'> (If none -> Batch)\n",
      "Test Accuracy of Plane:  0% ( 0/1000)\n",
      "Test Accuracy of   Car: 100% (1000/1000)\n",
      "Test Accuracy of  Bird:  0% ( 0/1000)\n",
      "Test Accuracy of   Cat:  0% ( 0/1000)\n",
      "Test Accuracy of  Deer:  0% ( 0/1000)\n",
      "Test Accuracy of   Dog:  0% ( 0/1000)\n",
      "Test Accuracy of  Frog:  0% ( 0/1000)\n",
      "Test Accuracy of Horse:  0% ( 0/1000)\n",
      "Test Accuracy of  Ship:  0% ( 0/1000)\n",
      "Test Accuracy of Truck:  0% ( 0/1000)\n",
      "\n",
      "Test Accuracy (Overall): 10% (1000/10000)\n"
     ]
    },
    {
     "name": "stderr",
     "output_type": "stream",
     "text": [
      " 33%|███▎      | 1/3 [01:39<03:19, 99.71s/it]"
     ]
    },
    {
     "name": "stdout",
     "output_type": "stream",
     "text": [
      "Epoch: 1 \tTraining Loss: 2.646247 \tValidation Loss: 0.419580\n",
      "Validation loss decreased (inf --> 0.419580).  Saving model ...\n"
     ]
    },
    {
     "name": "stderr",
     "output_type": "stream",
     "text": [
      " 67%|██████▋   | 2/3 [03:18<01:39, 99.30s/it]"
     ]
    },
    {
     "name": "stdout",
     "output_type": "stream",
     "text": [
      "Epoch: 2 \tTraining Loss: 1.663034 \tValidation Loss: 0.414561\n",
      "Validation loss decreased (0.419580 --> 0.414561).  Saving model ...\n"
     ]
    },
    {
     "name": "stderr",
     "output_type": "stream",
     "text": [
      "100%|██████████| 3/3 [04:59<00:00, 99.69s/it]"
     ]
    },
    {
     "name": "stdout",
     "output_type": "stream",
     "text": [
      "Epoch: 3 \tTraining Loss: 1.639762 \tValidation Loss: 0.407251\n",
      "Validation loss decreased (0.414561 --> 0.407251).  Saving model ...\n"
     ]
    },
    {
     "name": "stderr",
     "output_type": "stream",
     "text": [
      "\n"
     ]
    },
    {
     "name": "stdout",
     "output_type": "stream",
     "text": [
      "Test Loss: 2.037390\n",
      "\n",
      "Configuration used: lr = 0.01, momentum = 0.9, weight_decay = 0.01, norm = <class '__main__.GroupNorm32'> (If none -> Batch)\n",
      "Test Accuracy of Plane: 65% (658/1000)\n",
      "Test Accuracy of   Car:  0% ( 0/1000)\n",
      "Test Accuracy of  Bird:  0% ( 0/1000)\n",
      "Test Accuracy of   Cat:  0% ( 0/1000)\n",
      "Test Accuracy of  Deer:  0% ( 2/1000)\n",
      "Test Accuracy of   Dog:  0% ( 0/1000)\n",
      "Test Accuracy of  Frog: 81% (811/1000)\n",
      "Test Accuracy of Horse:  7% (74/1000)\n",
      "Test Accuracy of  Ship:  0% ( 0/1000)\n",
      "Test Accuracy of Truck: 33% (337/1000)\n",
      "\n",
      "Test Accuracy (Overall): 18% (1882/10000)\n"
     ]
    },
    {
     "name": "stderr",
     "output_type": "stream",
     "text": [
      " 33%|███▎      | 1/3 [01:40<03:21, 100.74s/it]"
     ]
    },
    {
     "name": "stdout",
     "output_type": "stream",
     "text": [
      "Epoch: 1 \tTraining Loss: 2.448436 \tValidation Loss: 0.532371\n",
      "Validation loss decreased (inf --> 0.532371).  Saving model ...\n"
     ]
    },
    {
     "name": "stderr",
     "output_type": "stream",
     "text": [
      " 67%|██████▋   | 2/3 [03:22<01:41, 101.33s/it]"
     ]
    },
    {
     "name": "stdout",
     "output_type": "stream",
     "text": [
      "Epoch: 2 \tTraining Loss: 2.040762 \tValidation Loss: 0.505571\n",
      "Validation loss decreased (0.532371 --> 0.505571).  Saving model ...\n"
     ]
    },
    {
     "name": "stderr",
     "output_type": "stream",
     "text": [
      "100%|██████████| 3/3 [05:04<00:00, 101.57s/it]"
     ]
    },
    {
     "name": "stdout",
     "output_type": "stream",
     "text": [
      "Epoch: 3 \tTraining Loss: 2.042596 \tValidation Loss: 0.539828\n"
     ]
    },
    {
     "name": "stderr",
     "output_type": "stream",
     "text": [
      "\n"
     ]
    },
    {
     "name": "stdout",
     "output_type": "stream",
     "text": [
      "Test Loss: 2.694690\n",
      "\n",
      "Configuration used: lr = 0.01, momentum = 0.9, weight_decay = 0.1, norm = <class '__main__.GroupNorm32'> (If none -> Batch)\n",
      "Test Accuracy of Plane:  0% ( 0/1000)\n",
      "Test Accuracy of   Car:  0% ( 0/1000)\n",
      "Test Accuracy of  Bird:  0% ( 0/1000)\n",
      "Test Accuracy of   Cat:  0% ( 0/1000)\n",
      "Test Accuracy of  Deer:  0% ( 0/1000)\n",
      "Test Accuracy of   Dog:  0% ( 0/1000)\n",
      "Test Accuracy of  Frog:  0% ( 0/1000)\n",
      "Test Accuracy of Horse:  0% ( 0/1000)\n",
      "Test Accuracy of  Ship: 100% (1000/1000)\n",
      "Test Accuracy of Truck:  0% ( 0/1000)\n",
      "\n",
      "Test Accuracy (Overall): 10% (1000/10000)\n",
      "{'lr': [0.01, 0.01, 0.01, 0.01, 0.01, 0.01, 0.01, 0.01, 0.01, 0.01, 0.01, 0.01, 0.01, 0.01, 0.01, 0.01, 0.01, 0.01], 'mom': [0, 0, 0, 0.5, 0.5, 0.5, 0.9, 0.9, 0.9, 0, 0, 0, 0.5, 0.5, 0.5, 0.9, 0.9, 0.9], 'wd': [0, 0.01, 0.1, 0, 0.01, 0.1, 0, 0.01, 0.1, 0, 0.01, 0.1, 0, 0.01, 0.1, 0, 0.01, 0.1], 'norm': [], 'train_loss': [0.4482509360939264, 0.46819082063436507, 1.3171357173442841, 0.6065801052510739, 0.9873050760984421, 1.545697487926483, 1.2756858361005783, 1.309750559926033, 1.9318937355995178, 1.060386465549469, 1.0964930193662643, 1.484735332584381, 1.0521565070867538, 1.125401131272316, 1.754478856086731, 1.8664743465423583, 1.6397615970611572, 2.042595750808716], 'test_loss': [0.5236435279399156, 0.5761301271170378, 1.6277025833129883, 0.7119833222329617, 1.2670759596824646, 1.9204338705539703, 1.3973844797611237, 1.7526250278949738, 2.3603644704818727, 1.2875967314243317, 1.2352753499746323, 1.7628524215221406, 1.2614128655195236, 1.346962210536003, 2.2342847383022306, 2.3177501854896545, 2.0373902180194854, 2.6946904492378234], 'global_accuracy': [82.23, 80.75, 49.62, 76.69, 56.8, 34.03, 49.48, 38.06, 16.96, 55.24, 56.87, 34.78, 54.68, 52.1, 20.33, 10.0, 18.82, 10.0]}\n"
     ]
    }
   ],
   "source": [
    "import os\n",
    "import torch\n",
    "import torch.cuda\n",
    "import torch.nn as nn\n",
    "from torch.utils.data import Dataset, DataLoader\n",
    "from torch.utils.data.sampler import SubsetRandomSampler\n",
    "import torchvision\n",
    "from torchvision import datasets,models,transforms\n",
    "\n",
    "import numpy as np\n",
    "import matplotlib.pyplot as plt\n",
    "from tqdm import tqdm\n",
    "from PIL import Image\n",
    "\n",
    "class GroupNorm32(torch.nn.GroupNorm):\n",
    "    def __init__(self, num_channels, num_groups=2, **kargs):\n",
    "        super().__init__(num_groups, num_channels, **kargs)\n",
    "\n",
    "if __name__ == '__main__':\n",
    "    \"\"\"# Dataset transformation and loading\"\"\"\n",
    "    \n",
    "    #Transformations are RandomCrop, RandomHorizontalFlip and Normalization\n",
    "    transform = transforms.Compose([transforms.RandomHorizontalFlip(0.5),\n",
    "                                    transforms.RandomCrop(32),\n",
    "                                    transforms.ToTensor(),\n",
    "                                    transforms.Normalize((0.5, 0.5, 0.5), (0.5, 0.5, 0.5))])\n",
    "    \n",
    "    #Dataset (train and test) downloads and transforms appliance\n",
    "    image_train_set = datasets.CIFAR10(root=\"./data\", train = True, download=True, transform = transform)\n",
    "    image_test_set = datasets.CIFAR10(root=\"./data\", train = False, download=True, transform = transform)\n",
    "    \n",
    "    n_train = len(image_train_set)\n",
    "    indices = list(range(n_train))\n",
    "    np.random.shuffle(indices) #Randomize indices to avoid overfitting\n",
    "    split_mask = int(np.floor(0.2*n_train)) #Create a the threshold to split train in train and validation\n",
    "    train_indices,valid_indices = indices[split_mask:],indices[:split_mask]\n",
    "    \n",
    "    #Initiliazation of samplers to divide train and valid into batches\n",
    "    train_sampler = SubsetRandomSampler(train_indices)\n",
    "    valid_sampler = SubsetRandomSampler(valid_indices)\n",
    "    \n",
    "    #Loading sets into dataloaders\n",
    "    train_loader = DataLoader(image_train_set, batch_size = 20, sampler = train_sampler, num_workers = 3)\n",
    "    valid_loader = DataLoader(image_train_set, batch_size = 20, sampler = valid_sampler, num_workers = 3)\n",
    "    test_loader = DataLoader(image_test_set, batch_size = 20, num_workers = 3)\n",
    "    \n",
    "    #Declare the list of classes\n",
    "    labels_list = [\"Plane\",\"Car\",\"Bird\",\"Cat\",\"Deer\",\"Dog\",\"Frog\",\"Horse\",\"Ship\",\"Truck\"]\n",
    "    \n",
    "    optim_parameters = {\"lr\":[1e-2],\"momentum\":[0,0.5,0.9],\"weight_decay\":[0,0.01,0.1]}\n",
    "    norm_layers = [None,GroupNorm32]\n",
    "    tuning_results = {\"lr\":[],\"mom\":[],\"wd\":[],\"norm\":[],\"train_loss\":[],\"test_loss\":[],\"global_accuracy\":[]}\n",
    "\n",
    "    for norms in norm_layers:\n",
    "      for lr_param in optim_parameters[\"lr\"]:\n",
    "        for mom_param in optim_parameters[\"momentum\"]:\n",
    "          for wd_param in optim_parameters[\"weight_decay\"]:\n",
    "              \"\"\"# Model Initialization\"\"\"\n",
    "              #Definition of ResNet50\n",
    "              if norms == None:\n",
    "                model = models.resnet50(pretrained = True, progress = True, norm_layer = norms)\n",
    "              else:\n",
    "                model = models.resnet50(pretrained = False, progress = True, norm_layer = norms)\n",
    "\n",
    "              #model = ResNet50(num_classes = len(labels_list), pretrained = True)\n",
    "              model.cuda() #Passes the model calculation to the GPU\n",
    "              \n",
    "              #Loss Criterion = CrossEntropy\n",
    "              loss_criterion = nn.CrossEntropyLoss()\n",
    "              #Optimizer = SGD\n",
    "              optim = torch.optim.SGD(model.parameters(), lr = lr_param, momentum = mom_param, weight_decay = wd_param)\n",
    "              \n",
    "              \"\"\"# Training and Validation\"\"\"\n",
    "              \n",
    "              #Declaring number of epochs\n",
    "              epochs = [*range(3)]\n",
    "              #Declaring list for the losses\n",
    "              train_loss_list = []\n",
    "              valid_loss_min = np.Inf #To keep track of the validation loss\n",
    "              \n",
    "              for epoch in tqdm(range(1,(len(epochs)+1))):\n",
    "              \n",
    "                #To keep track of training and validation loss\n",
    "                train_loss = 0.0\n",
    "                valid_loss = 0.0\n",
    "              \n",
    "                ##MODEL TRAINING##\n",
    "                model.train()\n",
    "                for data,target in train_loader:\n",
    "                  #Use GPU for tensors\n",
    "                  data, target = data.cuda(), target.cuda()\n",
    "                  #Clear optimizer gradients\n",
    "                  optim.zero_grad()\n",
    "                  #Computation of predicted output\n",
    "                  output = model(data)\n",
    "                  #Calculating batch loss\n",
    "                  loss = loss_criterion(output,target)\n",
    "                  #Backward\n",
    "                  loss.backward()\n",
    "                  #Optimization step\n",
    "                  optim.step()\n",
    "                  #Training loss update\n",
    "                  train_loss += loss.item()*data.size(0)\n",
    "              \n",
    "                \n",
    "                ##MODEL VALIDATION##\n",
    "                model.eval()\n",
    "                for data,target in valid_loader:\n",
    "                  #Use GPU for tensors\n",
    "                  data,target = data.cuda(), target.cuda()\n",
    "                  #Computation of predicted output\n",
    "                  output = model(data)\n",
    "                  #Loss computation\n",
    "                  loss = loss_criterion(output,target)\n",
    "                  valid_loss += loss.item()*data.size(0)\n",
    "              \n",
    "                #Calculation of Average Losses\n",
    "                train_loss = train_loss/len(train_loader.dataset)\n",
    "                valid_loss = valid_loss/len(valid_loader.dataset)\n",
    "                train_loss_list.append(train_loss)\n",
    "              \n",
    "                #Print training/validation statistics \n",
    "                print('Epoch: {} \\tTraining Loss: {:.6f} \\tValidation Loss: {:.6f}'.format(epoch, train_loss, valid_loss))\n",
    "              \n",
    "                #Save model for decreasing losses\n",
    "                if valid_loss <= valid_loss_min:\n",
    "                  print('Validation loss decreased ({:.6f} --> {:.6f}).  Saving model ...'.format(valid_loss_min, valid_loss))\n",
    "                  torch.save(model.state_dict(), 'model_cifar.pt')\n",
    "                  valid_loss_min = valid_loss\n",
    "              \n",
    "                #Printing Epochs Results\n",
    "                #plt.plot(epochs, train_loss_list)\n",
    "                #plt.xlabel(\"Epoch\")\n",
    "                #plt.ylabel(\"Loss\")\n",
    "                #plt.title(\"Performance of Model 1\")\n",
    "                #plt.show()\n",
    "                \n",
    "                \"\"\"# Testing\"\"\"\n",
    "                \n",
    "              #Tracking of test loss\n",
    "              test_loss = 0.0\n",
    "              class_correct = list(0. for i in range(len(labels_list)))\n",
    "              class_total = list(0. for i in range(len(labels_list)))\n",
    "              train_on_gpu = torch.cuda.is_available()\n",
    "                \n",
    "              #Testing the model\n",
    "              model.eval()\n",
    "              for data,target in test_loader:\n",
    "                #Move to GPU if is available\n",
    "                data,target = data.cuda(),target.cuda()\n",
    "                #Output computation\n",
    "                output = model(data)\n",
    "                #Test loss computation\n",
    "                loss = loss_criterion(output,target)\n",
    "                #Update loss\n",
    "                test_loss += loss.item()*data.size(0)\n",
    "                #Convert output to probabilities\n",
    "                _, pred = torch.max(output,1)\n",
    "                #Compare prediction to target\n",
    "                correct_tensor = pred.eq(target.data.view_as(pred))\n",
    "                correct = np.squeeze(correct_tensor.numpy()) if not train_on_gpu else np.squeeze(correct_tensor.cpu().numpy())\n",
    "                #Compute test accuracy\n",
    "                for i in range(2*len(labels_list)):\n",
    "                  label = target.data[i]\n",
    "                  class_correct[label] += correct[i].item()\n",
    "                  class_total[label] += 1\n",
    "                \n",
    "              test_loss = test_loss/len(test_loader.dataset)\n",
    "              print('Test Loss: {:.6f}\\n'.format(test_loss))\n",
    "              \n",
    "              \"\"\"# Visualize Accuracy Results\"\"\"\n",
    "              \n",
    "              print(f\"Configuration used: lr = {lr_param}, momentum = {mom_param}, weight_decay = {wd_param}, norm = {norms} (If none -> Batch)\")\n",
    "\n",
    "\n",
    "              for i in range(len(labels_list)):\n",
    "                  if class_total[i] > 0:\n",
    "                      print('Test Accuracy of %5s: %2d%% (%2d/%2d)' % (\n",
    "                          labels_list[i], 100 * class_correct[i] / class_total[i],\n",
    "                          np.sum(class_correct[i]), np.sum(class_total[i])))\n",
    "                  else:\n",
    "                      print('Test Accuracy of %5s: N/A (no training examples)' % (labels_list[i]))\n",
    "              \n",
    "              print('\\nTest Accuracy (Overall): %2d%% (%2d/%2d)' % (\n",
    "                  100. * np.sum(class_correct) / np.sum(class_total),\n",
    "                  np.sum(class_correct), np.sum(class_total)))\n",
    "              \n",
    "              tuning_results[\"lr\"].append(lr_param)\n",
    "              tuning_results[\"mom\"].append(mom_param)\n",
    "              tuning_results[\"wd\"].append(wd_param)\n",
    "              tuning_results[\"train_loss\"].append(train_loss)\n",
    "              tuning_results[\"test_loss\"].append(test_loss)\n",
    "              tuning_results[\"global_accuracy\"].append(100. * np.sum(class_correct) / np.sum(class_total))\n",
    "\n",
    "    print(tuning_results)"
   ]
  },
  {
   "cell_type": "code",
   "execution_count": null,
   "metadata": {},
   "outputs": [],
   "source": []
  }
 ],
 "metadata": {
  "kernelspec": {
   "display_name": "Python 3",
   "language": "python",
   "name": "python3"
  },
  "language_info": {
   "codemirror_mode": {
    "name": "ipython",
    "version": 3
   },
   "file_extension": ".py",
   "mimetype": "text/x-python",
   "name": "python",
   "nbconvert_exporter": "python",
   "pygments_lexer": "ipython3",
   "version": "3.8.10"
  }
 },
 "nbformat": 4,
 "nbformat_minor": 4
}
